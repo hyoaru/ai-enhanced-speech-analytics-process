{
 "cells": [
  {
   "cell_type": "markdown",
   "metadata": {},
   "source": [
    "# AI-enhanced Speech Analytics Process"
   ]
  },
  {
   "cell_type": "markdown",
   "metadata": {},
   "source": [
    "## Implemeting speech recognition"
   ]
  },
  {
   "cell_type": "code",
   "execution_count": 2,
   "metadata": {},
   "outputs": [],
   "source": [
    "import speech_recognition as sr\n",
    "from pydub import AudioSegment\n",
    "from pydub.playback import play"
   ]
  },
  {
   "cell_type": "code",
   "execution_count": 4,
   "metadata": {},
   "outputs": [
    {
     "name": "stdout",
     "output_type": "stream",
     "text": [
      "Recognized text: test test test test test input devices configuration output devices recording\n"
     ]
    }
   ],
   "source": [
    "recognizer = sr.Recognizer()\n",
    "\n",
    "try:\n",
    "  audio_full_filename = 'test.flac'\n",
    "  audio_filename = audio_full_filename[0:audio_full_filename.rfind('.')]\n",
    "  raw_audios_directory = 'audios/raw'\n",
    "  converted_audios_directory = 'audios/converted'\n",
    "\n",
    "  audio_file = AudioSegment.from_file(f'{raw_audios_directory}/{audio_full_filename}')\n",
    "  test = audio_file.export(f'{converted_audios_directory}/{audio_filename}.wav', format='wav')\n",
    "\n",
    "  with sr.AudioFile(f'{converted_audios_directory}/{audio_filename}.wav') as source:\n",
    "    audio_data = recognizer.record(source)\n",
    "    text = recognizer.recognize_google(audio_data)\n",
    "    print(f'Recognized text: {text}')\n",
    "\n",
    "except sr.UnknownValueError():\n",
    "  recognizer = sr.Recognizer()\n"
   ]
  }
 ],
 "metadata": {
  "kernelspec": {
   "display_name": ".venv",
   "language": "python",
   "name": "python3"
  },
  "language_info": {
   "codemirror_mode": {
    "name": "ipython",
    "version": 3
   },
   "file_extension": ".py",
   "mimetype": "text/x-python",
   "name": "python",
   "nbconvert_exporter": "python",
   "pygments_lexer": "ipython3",
   "version": "3.11.5"
  }
 },
 "nbformat": 4,
 "nbformat_minor": 2
}
